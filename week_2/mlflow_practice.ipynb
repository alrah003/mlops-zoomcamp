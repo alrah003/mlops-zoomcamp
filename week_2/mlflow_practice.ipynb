{
 "cells": [
  {
   "cell_type": "code",
   "execution_count": 3,
   "metadata": {},
   "outputs": [
    {
     "name": "stdout",
     "output_type": "stream",
     "text": [
      "Defaulting to user installation because normal site-packages is not writeable\n",
      "Collecting mlflow\n",
      "  Downloading mlflow-2.13.0-py3-none-any.whl (25.0 MB)\n",
      "\u001b[2K     \u001b[38;2;114;156;31m━━━━━━━━━━━━━━━━━━━━━━━━━━━━━━━━━━━━━━━━\u001b[0m \u001b[32m25.0/25.0 MB\u001b[0m \u001b[31m81.8 kB/s\u001b[0m eta \u001b[36m0:00:00\u001b[0mm eta \u001b[36m0:00:01\u001b[0m[36m0:00:11\u001b[0m\n",
      "\u001b[?25hRequirement already satisfied: importlib-metadata!=4.7.0,<8,>=3.7.0 in /usr/lib/python3/dist-packages (from mlflow) (4.6.4)\n",
      "Requirement already satisfied: scipy<2 in /home/khalid/.local/lib/python3.10/site-packages (from mlflow) (1.11.2)\n",
      "Requirement already satisfied: sqlalchemy<3,>=1.4.0 in /home/khalid/.local/lib/python3.10/site-packages (from mlflow) (2.0.19)\n",
      "Collecting entrypoints<1\n",
      "  Downloading entrypoints-0.4-py3-none-any.whl (5.3 kB)\n",
      "Requirement already satisfied: matplotlib<4 in /home/khalid/.local/lib/python3.10/site-packages (from mlflow) (3.7.2)\n",
      "Collecting sqlparse<1,>=0.4.0\n",
      "  Downloading sqlparse-0.5.0-py3-none-any.whl (43 kB)\n",
      "\u001b[2K     \u001b[38;2;114;156;31m━━━━━━━━━━━━━━━━━━━━━━━━━━━━━━━━━━━━━━━━\u001b[0m \u001b[32m44.0/44.0 KB\u001b[0m \u001b[31m7.0 MB/s\u001b[0m eta \u001b[36m0:00:00\u001b[0m\n",
      "\u001b[?25hCollecting cloudpickle<4\n",
      "  Downloading cloudpickle-3.0.0-py3-none-any.whl (20 kB)\n",
      "Requirement already satisfied: pandas<3 in /home/khalid/.local/lib/python3.10/site-packages (from mlflow) (2.1.0)\n",
      "Collecting querystring-parser<2\n",
      "  Downloading querystring_parser-1.2.4-py2.py3-none-any.whl (7.9 kB)\n",
      "Requirement already satisfied: click<9,>=7.0 in /home/khalid/.local/lib/python3.10/site-packages (from mlflow) (8.1.6)\n",
      "Requirement already satisfied: gunicorn<23 in /home/khalid/.local/lib/python3.10/site-packages (from mlflow) (21.2.0)\n",
      "Requirement already satisfied: alembic!=1.10.0,<2 in /home/khalid/.local/lib/python3.10/site-packages (from mlflow) (1.11.1)\n",
      "Collecting opentelemetry-api<3,>=1.0.0\n",
      "  Downloading opentelemetry_api-1.24.0-py3-none-any.whl (60 kB)\n",
      "\u001b[2K     \u001b[38;2;114;156;31m━━━━━━━━━━━━━━━━━━━━━━━━━━━━━━━━━━━━━━━\u001b[0m \u001b[32m60.1/60.1 KB\u001b[0m \u001b[31m391.8 kB/s\u001b[0m eta \u001b[36m0:00:00\u001b[0m1m362.0 kB/s\u001b[0m eta \u001b[36m0:00:01\u001b[0m\n",
      "\u001b[?25hCollecting markdown<4,>=3.3\n",
      "  Downloading Markdown-3.6-py3-none-any.whl (105 kB)\n",
      "\u001b[2K     \u001b[38;2;114;156;31m━━━━━━━━━━━━━━━━━━━━━━━━━━━━━━━━━━━━━\u001b[0m \u001b[32m105.4/105.4 KB\u001b[0m \u001b[31m128.7 kB/s\u001b[0m eta \u001b[36m0:00:00\u001b[0m kB/s\u001b[0m eta \u001b[36m0:00:01\u001b[0m:01\u001b[0m\n",
      "\u001b[?25hRequirement already satisfied: pyyaml<7,>=5.1 in /usr/lib/python3/dist-packages (from mlflow) (5.4.1)\n",
      "Requirement already satisfied: scikit-learn<2 in /home/khalid/.local/lib/python3.10/site-packages (from mlflow) (1.4.2)\n",
      "Collecting gitpython<4,>=3.1.9\n",
      "  Downloading GitPython-3.1.43-py3-none-any.whl (207 kB)\n",
      "\u001b[2K     \u001b[38;2;114;156;31m━━━━━━━━━━━━━━━━━━━━━━━━━━━━━━━━━━━━━\u001b[0m \u001b[32m207.3/207.3 KB\u001b[0m \u001b[31m245.3 kB/s\u001b[0m eta \u001b[36m0:00:00\u001b[0m1m245.1 kB/s\u001b[0m eta \u001b[36m0:00:01\u001b[0m\n",
      "\u001b[?25hCollecting cachetools<6,>=5.0.0\n",
      "  Downloading cachetools-5.3.3-py3-none-any.whl (9.3 kB)\n",
      "Requirement already satisfied: numpy<2 in /home/khalid/.local/lib/python3.10/site-packages (from mlflow) (1.25.2)\n",
      "Collecting pyarrow<16,>=4.0.0\n",
      "  Downloading pyarrow-15.0.2-cp310-cp310-manylinux_2_28_x86_64.whl (38.3 MB)\n",
      "\u001b[2K     \u001b[38;2;114;156;31m━━━━━━━━━━━━━━━━━━━━━━━━━━━━━━━━━━━━━━━\u001b[0m \u001b[32m38.3/38.3 MB\u001b[0m \u001b[31m181.3 kB/s\u001b[0m eta \u001b[36m0:00:00\u001b[0mm eta \u001b[36m0:00:01\u001b[0m[36m0:00:07\u001b[0m\n",
      "\u001b[?25hRequirement already satisfied: Flask<4 in /home/khalid/.local/lib/python3.10/site-packages (from mlflow) (2.3.2)\n",
      "Requirement already satisfied: protobuf<5,>=3.12.0 in /home/khalid/.local/lib/python3.10/site-packages (from mlflow) (4.24.2)\n",
      "Requirement already satisfied: requests<3,>=2.17.3 in /home/khalid/.local/lib/python3.10/site-packages (from mlflow) (2.31.0)\n",
      "Requirement already satisfied: pytz<2025 in /usr/lib/python3/dist-packages (from mlflow) (2022.1)\n",
      "Requirement already satisfied: Jinja2<4,>=2.11 in /home/khalid/.local/lib/python3.10/site-packages (from mlflow) (3.1.2)\n",
      "Collecting graphene<4\n",
      "  Downloading graphene-3.3-py2.py3-none-any.whl (128 kB)\n",
      "\u001b[2K     \u001b[38;2;114;156;31m━━━━━━━━━━━━━━━━━━━━━━━━━━━━━━━━━━━━━\u001b[0m \u001b[32m128.2/128.2 KB\u001b[0m \u001b[31m441.2 kB/s\u001b[0m eta \u001b[36m0:00:00\u001b[0m1m486.8 kB/s\u001b[0m eta \u001b[36m0:00:01\u001b[0m\n",
      "\u001b[?25hCollecting opentelemetry-sdk<3,>=1.0.0\n",
      "  Downloading opentelemetry_sdk-1.24.0-py3-none-any.whl (106 kB)\n",
      "\u001b[2K     \u001b[38;2;114;156;31m━━━━━━━━━━━━━━━━━━━━━━━━━━━━━━━━━━━━━\u001b[0m \u001b[32m106.1/106.1 KB\u001b[0m \u001b[31m308.8 kB/s\u001b[0m eta \u001b[36m0:00:00\u001b[0m1m291.9 kB/s\u001b[0m eta \u001b[36m0:00:01\u001b[0m\n",
      "\u001b[?25hRequirement already satisfied: packaging<25 in /home/khalid/.local/lib/python3.10/site-packages (from mlflow) (23.1)\n",
      "Collecting docker<8,>=4.0.0\n",
      "  Downloading docker-7.1.0-py3-none-any.whl (147 kB)\n",
      "\u001b[2K     \u001b[38;2;114;156;31m━━━━━━━━━━━━━━━━━━━━━━━━━━━━━━━━━━━━━━\u001b[0m \u001b[32m147.8/147.8 KB\u001b[0m \u001b[31m22.9 MB/s\u001b[0m eta \u001b[36m0:00:00\u001b[0m\n",
      "\u001b[?25hRequirement already satisfied: Mako in /home/khalid/.local/lib/python3.10/site-packages (from alembic!=1.10.0,<2->mlflow) (1.2.4)\n",
      "Requirement already satisfied: typing-extensions>=4 in /home/khalid/.local/lib/python3.10/site-packages (from alembic!=1.10.0,<2->mlflow) (4.7.1)\n",
      "Requirement already satisfied: urllib3>=1.26.0 in /usr/lib/python3/dist-packages (from docker<8,>=4.0.0->mlflow) (1.26.5)\n",
      "Requirement already satisfied: blinker>=1.6.2 in /home/khalid/.local/lib/python3.10/site-packages (from Flask<4->mlflow) (1.6.2)\n",
      "Requirement already satisfied: itsdangerous>=2.1.2 in /home/khalid/.local/lib/python3.10/site-packages (from Flask<4->mlflow) (2.1.2)\n",
      "Requirement already satisfied: Werkzeug>=2.3.3 in /home/khalid/.local/lib/python3.10/site-packages (from Flask<4->mlflow) (2.3.6)\n",
      "Collecting gitdb<5,>=4.0.1\n",
      "  Downloading gitdb-4.0.11-py3-none-any.whl (62 kB)\n",
      "\u001b[2K     \u001b[38;2;114;156;31m━━━━━━━━━━━━━━━━━━━━━━━━━━━━━━━━━━━━━━━\u001b[0m \u001b[32m62.7/62.7 KB\u001b[0m \u001b[31m236.1 kB/s\u001b[0m eta \u001b[36m0:00:00\u001b[0m kB/s\u001b[0m eta \u001b[36m0:00:01\u001b[0m\n",
      "\u001b[?25hCollecting aniso8601<10,>=8\n",
      "  Downloading aniso8601-9.0.1-py2.py3-none-any.whl (52 kB)\n",
      "\u001b[2K     \u001b[38;2;114;156;31m━━━━━━━━━━━━━━━━━━━━━━━━━━━━━━━━━━━━━━━\u001b[0m \u001b[32m52.8/52.8 KB\u001b[0m \u001b[31m240.6 kB/s\u001b[0m eta \u001b[36m0:00:00\u001b[0m kB/s\u001b[0m eta \u001b[36m0:00:01\u001b[0m:01\u001b[0m\n",
      "\u001b[?25hCollecting graphql-core<3.3,>=3.1\n",
      "  Downloading graphql_core-3.2.3-py3-none-any.whl (202 kB)\n",
      "\u001b[2K     \u001b[38;2;114;156;31m━━━━━━━━━━━━━━━━━━━━━━━━━━━━━━━━━━━━━\u001b[0m \u001b[32m202.9/202.9 KB\u001b[0m \u001b[31m322.3 kB/s\u001b[0m eta \u001b[36m0:00:00\u001b[0m1m546.0 kB/s\u001b[0m eta \u001b[36m0:00:01\u001b[0m\n",
      "\u001b[?25hCollecting graphql-relay<3.3,>=3.1\n",
      "  Downloading graphql_relay-3.2.0-py3-none-any.whl (16 kB)\n",
      "Requirement already satisfied: MarkupSafe>=2.0 in /home/khalid/.local/lib/python3.10/site-packages (from Jinja2<4,>=2.11->mlflow) (2.1.3)\n",
      "Requirement already satisfied: contourpy>=1.0.1 in /home/khalid/.local/lib/python3.10/site-packages (from matplotlib<4->mlflow) (1.1.0)\n",
      "Requirement already satisfied: pillow>=6.2.0 in /home/khalid/.local/lib/python3.10/site-packages (from matplotlib<4->mlflow) (10.0.0)\n",
      "Requirement already satisfied: python-dateutil>=2.7 in /home/khalid/.local/lib/python3.10/site-packages (from matplotlib<4->mlflow) (2.8.2)\n",
      "Requirement already satisfied: kiwisolver>=1.0.1 in /home/khalid/.local/lib/python3.10/site-packages (from matplotlib<4->mlflow) (1.4.5)\n",
      "Requirement already satisfied: pyparsing<3.1,>=2.3.1 in /usr/lib/python3/dist-packages (from matplotlib<4->mlflow) (2.4.7)\n",
      "Requirement already satisfied: cycler>=0.10 in /home/khalid/.local/lib/python3.10/site-packages (from matplotlib<4->mlflow) (0.11.0)\n",
      "Requirement already satisfied: fonttools>=4.22.0 in /home/khalid/.local/lib/python3.10/site-packages (from matplotlib<4->mlflow) (4.42.1)\n",
      "Collecting deprecated>=1.2.6\n",
      "  Downloading Deprecated-1.2.14-py2.py3-none-any.whl (9.6 kB)\n",
      "Collecting importlib-metadata!=4.7.0,<8,>=3.7.0\n",
      "  Downloading importlib_metadata-7.0.0-py3-none-any.whl (23 kB)\n",
      "Requirement already satisfied: zipp>=0.5 in /usr/lib/python3/dist-packages (from importlib-metadata!=4.7.0,<8,>=3.7.0->mlflow) (1.0.0)\n",
      "Collecting opentelemetry-semantic-conventions==0.45b0\n",
      "  Downloading opentelemetry_semantic_conventions-0.45b0-py3-none-any.whl (36 kB)\n",
      "Requirement already satisfied: tzdata>=2022.1 in /home/khalid/.local/lib/python3.10/site-packages (from pandas<3->mlflow) (2023.3)\n",
      "Requirement already satisfied: six in /usr/lib/python3/dist-packages (from querystring-parser<2->mlflow) (1.16.0)\n",
      "Requirement already satisfied: charset-normalizer<4,>=2 in /home/khalid/.local/lib/python3.10/site-packages (from requests<3,>=2.17.3->mlflow) (3.1.0)\n",
      "Requirement already satisfied: certifi>=2017.4.17 in /usr/lib/python3/dist-packages (from requests<3,>=2.17.3->mlflow) (2020.6.20)\n",
      "Requirement already satisfied: idna<4,>=2.5 in /usr/lib/python3/dist-packages (from requests<3,>=2.17.3->mlflow) (3.3)\n",
      "Requirement already satisfied: threadpoolctl>=2.0.0 in /home/khalid/.local/lib/python3.10/site-packages (from scikit-learn<2->mlflow) (3.5.0)\n",
      "Requirement already satisfied: joblib>=1.2.0 in /home/khalid/.local/lib/python3.10/site-packages (from scikit-learn<2->mlflow) (1.3.2)\n",
      "Requirement already satisfied: greenlet!=0.4.17 in /home/khalid/.local/lib/python3.10/site-packages (from sqlalchemy<3,>=1.4.0->mlflow) (2.0.2)\n",
      "Collecting wrapt<2,>=1.10\n",
      "  Downloading wrapt-1.16.0-cp310-cp310-manylinux_2_5_x86_64.manylinux1_x86_64.manylinux_2_17_x86_64.manylinux2014_x86_64.whl (80 kB)\n",
      "\u001b[2K     \u001b[38;2;114;156;31m━━━━━━━━━━━━━━━━━━━━━━━━━━━━━━━━━━━━━━━\u001b[0m \u001b[32m80.3/80.3 KB\u001b[0m \u001b[31m178.9 kB/s\u001b[0m eta \u001b[36m0:00:00\u001b[0m1m175.8 kB/s\u001b[0m eta \u001b[36m0:00:01\u001b[0m\n",
      "\u001b[?25hCollecting smmap<6,>=3.0.1\n",
      "  Downloading smmap-5.0.1-py3-none-any.whl (24 kB)\n",
      "Installing collected packages: aniso8601, wrapt, sqlparse, smmap, querystring-parser, pyarrow, opentelemetry-semantic-conventions, markdown, importlib-metadata, graphql-core, entrypoints, cloudpickle, cachetools, graphql-relay, gitdb, docker, deprecated, opentelemetry-api, graphene, gitpython, opentelemetry-sdk, mlflow\n",
      "  Attempting uninstall: pyarrow\n",
      "    Found existing installation: pyarrow 16.1.0\n",
      "    Uninstalling pyarrow-16.1.0:\n",
      "      Successfully uninstalled pyarrow-16.1.0\n",
      "Successfully installed aniso8601-9.0.1 cachetools-5.3.3 cloudpickle-3.0.0 deprecated-1.2.14 docker-7.1.0 entrypoints-0.4 gitdb-4.0.11 gitpython-3.1.43 graphene-3.3 graphql-core-3.2.3 graphql-relay-3.2.0 importlib-metadata-7.0.0 markdown-3.6 mlflow-2.13.0 opentelemetry-api-1.24.0 opentelemetry-sdk-1.24.0 opentelemetry-semantic-conventions-0.45b0 pyarrow-15.0.2 querystring-parser-1.2.4 smmap-5.0.1 sqlparse-0.5.0 wrapt-1.16.0\n",
      "Note: you may need to restart the kernel to use updated packages.\n"
     ]
    }
   ],
   "source": [
    "pip install mlflow"
   ]
  },
  {
   "cell_type": "code",
   "execution_count": 1,
   "metadata": {},
   "outputs": [],
   "source": [
    "import mlflow\n",
    "\n",
    "mlflow.set_tracking_uri(\"http://localhost:5000\")"
   ]
  },
  {
   "cell_type": "code",
   "execution_count": 2,
   "metadata": {},
   "outputs": [
    {
     "name": "stdout",
     "output_type": "stream",
     "text": [
      "2.13.0\n"
     ]
    }
   ],
   "source": [
    "print(mlflow.__version__)"
   ]
  },
  {
   "cell_type": "code",
   "execution_count": null,
   "metadata": {},
   "outputs": [],
   "source": []
  }
 ],
 "metadata": {
  "kernelspec": {
   "display_name": "Python 3 (ipykernel)",
   "language": "python",
   "name": "python3"
  },
  "language_info": {
   "codemirror_mode": {
    "name": "ipython",
    "version": 3
   },
   "file_extension": ".py",
   "mimetype": "text/x-python",
   "name": "python",
   "nbconvert_exporter": "python",
   "pygments_lexer": "ipython3",
   "version": "3.10.12"
  },
  "vscode": {
   "interpreter": {
    "hash": "a24db46f38534e619fa792a04a6da920229aab4f86caba5d527eb8058d695e62"
   }
  }
 },
 "nbformat": 4,
 "nbformat_minor": 4
}
